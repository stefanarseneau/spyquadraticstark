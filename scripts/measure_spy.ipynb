{
 "cells": [
  {
   "cell_type": "code",
   "execution_count": 15,
   "metadata": {},
   "outputs": [],
   "source": [
    "import numpy as np\n",
    "import pandas as pd\n",
    "from tqdm import tqdm\n",
    "import sys\n",
    "import re\n",
    "import os\n",
    "\n",
    "from astropy.io import ascii\n",
    "from astropy.table import Table\n",
    "import matplotlib.pyplot as plt\n",
    "\n",
    "sys.path.append('../')\n",
    "from stark import utils"
   ]
  },
  {
   "cell_type": "code",
   "execution_count": 16,
   "metadata": {},
   "outputs": [],
   "source": [
    "def read_spectrum(file, specpath = '../data/raw/sp'):\n",
    "    # find, download, or skip the file\n",
    "    path = os.path.join(specpath, file)\n",
    "    table = ascii.read(path)\n",
    "    wl = utils.air2vac(table['Table'].data)\n",
    "    fl = table[':'].data\n",
    "    mask = (5260 < wl) * (wl < 5280) # continuum region\n",
    "    snr = np.nanmean(fl[mask]) / np.nanstd(fl[mask])\n",
    "    snr = snr if ~np.isnan(snr) else 1\n",
    "    ivar =  snr**2 / (table[':'].data + 1e-6)**2\n",
    "    return wl, fl, ivar\n"
   ]
  },
  {
   "cell_type": "code",
   "execution_count": 17,
   "metadata": {},
   "outputs": [],
   "source": [
    "from contextlib import contextmanager\n",
    "import sys, os\n",
    "\n",
    "@contextmanager\n",
    "def suppress_stdout():\n",
    "    with open(os.devnull, \"w\") as devnull:\n",
    "        old_stdout = sys.stdout\n",
    "        sys.stdout = devnull\n",
    "        try:  \n",
    "            yield\n",
    "        finally:\n",
    "            sys.stdout = old_stdout"
   ]
  },
  {
   "cell_type": "code",
   "execution_count": 18,
   "metadata": {},
   "outputs": [
    {
     "name": "stdout",
     "output_type": "stream",
     "text": [
      "lines: abgd\n",
      "windows: 9\n"
     ]
    },
    {
     "name": "stderr",
     "output_type": "stream",
     "text": [
      "  0%|          | 4/1184 [00:54<4:19:46, 13.21s/it]/home/arsen/miniconda3/envs/stark/lib/python3.12/site-packages/corv/fit.py:149: RuntimeWarning: invalid value encountered in sqrt\n",
      "  intersect = ( (-pcoef[1] + np.sqrt(pcoef[1]**2 - 4 * pcoef[0] * (pcoef[2] - t_cc - 1))) / (2 * pcoef[0]),\n",
      "/home/arsen/miniconda3/envs/stark/lib/python3.12/site-packages/corv/fit.py:150: RuntimeWarning: invalid value encountered in sqrt\n",
      "  (-pcoef[1] - np.sqrt(pcoef[1]**2 - 4 * pcoef[0] * (pcoef[2] - t_cc - 1))) / (2 * pcoef[0]) )\n",
      "  1%|          | 9/1184 [02:07<4:32:59, 13.94s/it]/home/arsen/miniconda3/envs/stark/lib/python3.12/site-packages/corv/fit.py:149: RuntimeWarning: invalid value encountered in sqrt\n",
      "  intersect = ( (-pcoef[1] + np.sqrt(pcoef[1]**2 - 4 * pcoef[0] * (pcoef[2] - t_cc - 1))) / (2 * pcoef[0]),\n",
      "/home/arsen/miniconda3/envs/stark/lib/python3.12/site-packages/corv/fit.py:150: RuntimeWarning: invalid value encountered in sqrt\n",
      "  (-pcoef[1] - np.sqrt(pcoef[1]**2 - 4 * pcoef[0] * (pcoef[2] - t_cc - 1))) / (2 * pcoef[0]) )\n",
      "  2%|▏         | 21/1184 [04:54<4:14:21, 13.12s/it]/home/arsen/miniconda3/envs/stark/lib/python3.12/site-packages/corv/fit.py:149: RuntimeWarning: invalid value encountered in sqrt\n",
      "  intersect = ( (-pcoef[1] + np.sqrt(pcoef[1]**2 - 4 * pcoef[0] * (pcoef[2] - t_cc - 1))) / (2 * pcoef[0]),\n",
      "/home/arsen/miniconda3/envs/stark/lib/python3.12/site-packages/corv/fit.py:150: RuntimeWarning: invalid value encountered in sqrt\n",
      "  (-pcoef[1] - np.sqrt(pcoef[1]**2 - 4 * pcoef[0] * (pcoef[2] - t_cc - 1))) / (2 * pcoef[0]) )\n",
      "  2%|▏         | 29/1184 [06:31<3:54:41, 12.19s/it]/home/arsen/miniconda3/envs/stark/lib/python3.12/site-packages/corv/fit.py:149: RuntimeWarning: invalid value encountered in sqrt\n",
      "  intersect = ( (-pcoef[1] + np.sqrt(pcoef[1]**2 - 4 * pcoef[0] * (pcoef[2] - t_cc - 1))) / (2 * pcoef[0]),\n",
      "/home/arsen/miniconda3/envs/stark/lib/python3.12/site-packages/corv/fit.py:150: RuntimeWarning: invalid value encountered in sqrt\n",
      "  (-pcoef[1] - np.sqrt(pcoef[1]**2 - 4 * pcoef[0] * (pcoef[2] - t_cc - 1))) / (2 * pcoef[0]) )\n",
      "  3%|▎         | 38/1184 [08:25<4:14:06, 13.30s/it]\n"
     ]
    },
    {
     "ename": "TypeError",
     "evalue": "expected non-empty vector for x",
     "output_type": "error",
     "traceback": [
      "\u001b[0;31m---------------------------------------------------------------------------\u001b[0m",
      "\u001b[0;31mTypeError\u001b[0m                                 Traceback (most recent call last)",
      "Cell \u001b[0;32mIn[18], line 25\u001b[0m\n\u001b[1;32m     23\u001b[0m \u001b[38;5;66;03m#plt.plot(wavl, flux)\u001b[39;00m\n\u001b[1;32m     24\u001b[0m \u001b[38;5;28;01mwith\u001b[39;00m suppress_stdout():\n\u001b[0;32m---> 25\u001b[0m     dat, lte_fig \u001b[38;5;241m=\u001b[39m \u001b[43mms\u001b[49m\u001b[38;5;241;43m.\u001b[39;49m\u001b[43mmeasure_spectrum\u001b[49m\u001b[43m(\u001b[49m\u001b[43mwavl\u001b[49m\u001b[43m,\u001b[49m\u001b[43m \u001b[49m\u001b[43mflux\u001b[49m\u001b[43m,\u001b[49m\u001b[43m \u001b[49m\u001b[43mivar\u001b[49m\u001b[43m,\u001b[49m\u001b[43m \u001b[49m\u001b[43mi\u001b[49m\u001b[43m,\u001b[49m\u001b[43m \u001b[49m\u001b[43mlines\u001b[49m\u001b[43m \u001b[49m\u001b[38;5;241;43m=\u001b[39;49m\u001b[43m \u001b[49m\u001b[43mlines\u001b[49m\u001b[43m,\u001b[49m\u001b[43m \u001b[49m\u001b[43mlte_mask_size\u001b[49m\u001b[43m \u001b[49m\u001b[38;5;241;43m=\u001b[39;49m\u001b[43m \u001b[49m\u001b[38;5;241;43m8\u001b[39;49m\u001b[43m,\u001b[49m\u001b[43m \u001b[49m\u001b[43mnlte_core_size\u001b[49m\u001b[43m \u001b[49m\u001b[38;5;241;43m=\u001b[39;49m\u001b[43m \u001b[49m\u001b[38;5;241;43m15\u001b[39;49m\u001b[43m,\u001b[49m\u001b[43m \u001b[49m\u001b[43mmodeltype\u001b[49m\u001b[38;5;241;43m=\u001b[39;49m\u001b[38;5;124;43m'\u001b[39;49m\u001b[38;5;124;43m1d_da_nlte\u001b[39;49m\u001b[38;5;124;43m'\u001b[39;49m\u001b[43m)\u001b[49m\n\u001b[1;32m     26\u001b[0m     dat \u001b[38;5;241m=\u001b[39m pd\u001b[38;5;241m.\u001b[39mDataFrame(dat)\n\u001b[1;32m     27\u001b[0m     \u001b[38;5;66;03m#dat = pd.DataFrame(ms.measure_spectrum(wavl, flux, ivar, i, lines = lines, lte_mask_size = 8, nlte_core_size = 8, modeltype='1d_da_nlte'))\u001b[39;00m\n",
      "File \u001b[0;32m/mnt/d/arsen/research/proj/spyquadraticstark/scripts/../stark/measurestark.py:41\u001b[0m, in \u001b[0;36mmeasure_spectrum\u001b[0;34m(wavl, flux, ivar, i, lines, lte_mask_size, nlte_core_size, modeltype)\u001b[0m\n\u001b[1;32m     38\u001b[0m     ltemodel \u001b[38;5;241m=\u001b[39m corv\u001b[38;5;241m.\u001b[39mmodels\u001b[38;5;241m.\u001b[39mmake_balmer_model(nvoigt\u001b[38;5;241m=\u001b[39m\u001b[38;5;241m1\u001b[39m, names\u001b[38;5;241m=\u001b[39mlines, windows\u001b[38;5;241m=\u001b[39mltewindow, edges\u001b[38;5;241m=\u001b[39medges)\n\u001b[1;32m     39\u001b[0m     nltemodel \u001b[38;5;241m=\u001b[39m corv\u001b[38;5;241m.\u001b[39mmodels\u001b[38;5;241m.\u001b[39mmake_balmer_model(nvoigt\u001b[38;5;241m=\u001b[39m\u001b[38;5;241m1\u001b[39m, names\u001b[38;5;241m=\u001b[39mlines, windows\u001b[38;5;241m=\u001b[39mnltewindow, edges\u001b[38;5;241m=\u001b[39medges)\n\u001b[0;32m---> 41\u001b[0m lte_rv, lte_e_rv, lte_redchi, lte_param_res \u001b[38;5;241m=\u001b[39m \u001b[43mcorv\u001b[49m\u001b[38;5;241;43m.\u001b[39;49m\u001b[43mfit\u001b[49m\u001b[38;5;241;43m.\u001b[39;49m\u001b[43mfit_corv\u001b[49m\u001b[43m(\u001b[49m\u001b[43mwavl\u001b[49m\u001b[43m[\u001b[49m\u001b[43mltemask\u001b[49m\u001b[43m]\u001b[49m\u001b[43m,\u001b[49m\u001b[43m \u001b[49m\u001b[43mflux\u001b[49m\u001b[43m[\u001b[49m\u001b[43mltemask\u001b[49m\u001b[43m]\u001b[49m\u001b[43m,\u001b[49m\u001b[43m \u001b[49m\u001b[43mivar\u001b[49m\u001b[43m[\u001b[49m\u001b[43mltemask\u001b[49m\u001b[43m]\u001b[49m\u001b[43m,\u001b[49m\u001b[43m \u001b[49m\u001b[43mltemodel\u001b[49m\u001b[43m)\u001b[49m\n\u001b[1;32m     42\u001b[0m \u001b[38;5;66;03m#nlte_rv, nlte_e_rv, nlte_redchi, nlte_param_res = corv.fit.fit_corv(wavl, flux, ivar, nltemodel)\u001b[39;00m\n\u001b[1;32m     44\u001b[0m lte_figure \u001b[38;5;241m=\u001b[39m corv\u001b[38;5;241m.\u001b[39mutils\u001b[38;5;241m.\u001b[39mlineplot(wavl[ltemask], flux[ltemask], ivar[ltemask], ltemodel, lte_param_res\u001b[38;5;241m.\u001b[39mparams)\n",
      "File \u001b[0;32m~/miniconda3/envs/stark/lib/python3.12/site-packages/corv/fit.py:286\u001b[0m, in \u001b[0;36mfit_corv\u001b[0;34m(wl, fl, ivar, corvmodel, xcorr_kw, iter_teff, tpar)\u001b[0m\n\u001b[1;32m    284\u001b[0m             \u001b[38;5;28;01mcontinue\u001b[39;00m\n\u001b[1;32m    285\u001b[0m \u001b[38;5;28;01melse\u001b[39;00m:\n\u001b[0;32m--> 286\u001b[0m     param_res \u001b[38;5;241m=\u001b[39m \u001b[43mlmfit\u001b[49m\u001b[38;5;241;43m.\u001b[39;49m\u001b[43mminimize\u001b[49m\u001b[43m(\u001b[49m\u001b[43mresidual\u001b[49m\u001b[43m,\u001b[49m\u001b[43m \u001b[49m\u001b[43mparams\u001b[49m\u001b[43m)\u001b[49m\n\u001b[1;32m    288\u001b[0m bestparams \u001b[38;5;241m=\u001b[39m param_res\u001b[38;5;241m.\u001b[39mparams\u001b[38;5;241m.\u001b[39mcopy()\n\u001b[1;32m    290\u001b[0m rv, e_rv, redchi \u001b[38;5;241m=\u001b[39m fit_rv(wl, fl, ivar, corvmodel, bestparams, \u001b[38;5;241m*\u001b[39m\u001b[38;5;241m*\u001b[39mxcorr_kw)\n",
      "File \u001b[0;32m~/miniconda3/envs/stark/lib/python3.12/site-packages/lmfit/minimizer.py:2586\u001b[0m, in \u001b[0;36mminimize\u001b[0;34m(fcn, params, method, args, kws, iter_cb, scale_covar, nan_policy, reduce_fcn, calc_covar, max_nfev, **fit_kws)\u001b[0m\n\u001b[1;32m   2446\u001b[0m \u001b[38;5;250m\u001b[39m\u001b[38;5;124;03m\"\"\"Perform the minimization of the objective function.\u001b[39;00m\n\u001b[1;32m   2447\u001b[0m \n\u001b[1;32m   2448\u001b[0m \u001b[38;5;124;03mThe minimize function takes an objective function to be minimized,\u001b[39;00m\n\u001b[0;32m   (...)\u001b[0m\n\u001b[1;32m   2580\u001b[0m \n\u001b[1;32m   2581\u001b[0m \u001b[38;5;124;03m\"\"\"\u001b[39;00m\n\u001b[1;32m   2582\u001b[0m fitter \u001b[38;5;241m=\u001b[39m Minimizer(fcn, params, fcn_args\u001b[38;5;241m=\u001b[39margs, fcn_kws\u001b[38;5;241m=\u001b[39mkws,\n\u001b[1;32m   2583\u001b[0m                    iter_cb\u001b[38;5;241m=\u001b[39miter_cb, scale_covar\u001b[38;5;241m=\u001b[39mscale_covar,\n\u001b[1;32m   2584\u001b[0m                    nan_policy\u001b[38;5;241m=\u001b[39mnan_policy, reduce_fcn\u001b[38;5;241m=\u001b[39mreduce_fcn,\n\u001b[1;32m   2585\u001b[0m                    calc_covar\u001b[38;5;241m=\u001b[39mcalc_covar, max_nfev\u001b[38;5;241m=\u001b[39mmax_nfev, \u001b[38;5;241m*\u001b[39m\u001b[38;5;241m*\u001b[39mfit_kws)\n\u001b[0;32m-> 2586\u001b[0m \u001b[38;5;28;01mreturn\u001b[39;00m \u001b[43mfitter\u001b[49m\u001b[38;5;241;43m.\u001b[39;49m\u001b[43mminimize\u001b[49m\u001b[43m(\u001b[49m\u001b[43mmethod\u001b[49m\u001b[38;5;241;43m=\u001b[39;49m\u001b[43mmethod\u001b[49m\u001b[43m)\u001b[49m\n",
      "File \u001b[0;32m~/miniconda3/envs/stark/lib/python3.12/site-packages/lmfit/minimizer.py:2330\u001b[0m, in \u001b[0;36mMinimizer.minimize\u001b[0;34m(self, method, params, **kws)\u001b[0m\n\u001b[1;32m   2327\u001b[0m         \u001b[38;5;28;01mif\u001b[39;00m (key\u001b[38;5;241m.\u001b[39mlower()\u001b[38;5;241m.\u001b[39mstartswith(user_method) \u001b[38;5;129;01mor\u001b[39;00m\n\u001b[1;32m   2328\u001b[0m                 val\u001b[38;5;241m.\u001b[39mlower()\u001b[38;5;241m.\u001b[39mstartswith(user_method)):\n\u001b[1;32m   2329\u001b[0m             kwargs[\u001b[38;5;124m'\u001b[39m\u001b[38;5;124mmethod\u001b[39m\u001b[38;5;124m'\u001b[39m] \u001b[38;5;241m=\u001b[39m val\n\u001b[0;32m-> 2330\u001b[0m \u001b[38;5;28;01mreturn\u001b[39;00m \u001b[43mfunction\u001b[49m\u001b[43m(\u001b[49m\u001b[38;5;241;43m*\u001b[39;49m\u001b[38;5;241;43m*\u001b[39;49m\u001b[43mkwargs\u001b[49m\u001b[43m)\u001b[49m\n",
      "File \u001b[0;32m~/miniconda3/envs/stark/lib/python3.12/site-packages/lmfit/minimizer.py:1649\u001b[0m, in \u001b[0;36mMinimizer.leastsq\u001b[0;34m(self, params, max_nfev, **kws)\u001b[0m\n\u001b[1;32m   1647\u001b[0m result\u001b[38;5;241m.\u001b[39mcall_kws \u001b[38;5;241m=\u001b[39m lskws\n\u001b[1;32m   1648\u001b[0m \u001b[38;5;28;01mtry\u001b[39;00m:\n\u001b[0;32m-> 1649\u001b[0m     lsout \u001b[38;5;241m=\u001b[39m \u001b[43mscipy_leastsq\u001b[49m\u001b[43m(\u001b[49m\u001b[38;5;28;43mself\u001b[39;49m\u001b[38;5;241;43m.\u001b[39;49m\u001b[43m__residual\u001b[49m\u001b[43m,\u001b[49m\u001b[43m \u001b[49m\u001b[43mvariables\u001b[49m\u001b[43m,\u001b[49m\u001b[43m \u001b[49m\u001b[38;5;241;43m*\u001b[39;49m\u001b[38;5;241;43m*\u001b[39;49m\u001b[43mlskws\u001b[49m\u001b[43m)\u001b[49m\n\u001b[1;32m   1650\u001b[0m \u001b[38;5;28;01mexcept\u001b[39;00m AbortFitException:\n\u001b[1;32m   1651\u001b[0m     \u001b[38;5;28;01mpass\u001b[39;00m\n",
      "File \u001b[0;32m~/miniconda3/envs/stark/lib/python3.12/site-packages/scipy/optimize/_minpack_py.py:426\u001b[0m, in \u001b[0;36mleastsq\u001b[0;34m(func, x0, args, Dfun, full_output, col_deriv, ftol, xtol, gtol, maxfev, epsfcn, factor, diag)\u001b[0m\n\u001b[1;32m    424\u001b[0m \u001b[38;5;28;01mif\u001b[39;00m \u001b[38;5;129;01mnot\u001b[39;00m \u001b[38;5;28misinstance\u001b[39m(args, \u001b[38;5;28mtuple\u001b[39m):\n\u001b[1;32m    425\u001b[0m     args \u001b[38;5;241m=\u001b[39m (args,)\n\u001b[0;32m--> 426\u001b[0m shape, dtype \u001b[38;5;241m=\u001b[39m \u001b[43m_check_func\u001b[49m\u001b[43m(\u001b[49m\u001b[38;5;124;43m'\u001b[39;49m\u001b[38;5;124;43mleastsq\u001b[39;49m\u001b[38;5;124;43m'\u001b[39;49m\u001b[43m,\u001b[49m\u001b[43m \u001b[49m\u001b[38;5;124;43m'\u001b[39;49m\u001b[38;5;124;43mfunc\u001b[39;49m\u001b[38;5;124;43m'\u001b[39;49m\u001b[43m,\u001b[49m\u001b[43m \u001b[49m\u001b[43mfunc\u001b[49m\u001b[43m,\u001b[49m\u001b[43m \u001b[49m\u001b[43mx0\u001b[49m\u001b[43m,\u001b[49m\u001b[43m \u001b[49m\u001b[43margs\u001b[49m\u001b[43m,\u001b[49m\u001b[43m \u001b[49m\u001b[43mn\u001b[49m\u001b[43m)\u001b[49m\n\u001b[1;32m    427\u001b[0m m \u001b[38;5;241m=\u001b[39m shape[\u001b[38;5;241m0\u001b[39m]\n\u001b[1;32m    429\u001b[0m \u001b[38;5;28;01mif\u001b[39;00m n \u001b[38;5;241m>\u001b[39m m:\n",
      "File \u001b[0;32m~/miniconda3/envs/stark/lib/python3.12/site-packages/scipy/optimize/_minpack_py.py:23\u001b[0m, in \u001b[0;36m_check_func\u001b[0;34m(checker, argname, thefunc, x0, args, numinputs, output_shape)\u001b[0m\n\u001b[1;32m     21\u001b[0m \u001b[38;5;28;01mdef\u001b[39;00m \u001b[38;5;21m_check_func\u001b[39m(checker, argname, thefunc, x0, args, numinputs,\n\u001b[1;32m     22\u001b[0m                 output_shape\u001b[38;5;241m=\u001b[39m\u001b[38;5;28;01mNone\u001b[39;00m):\n\u001b[0;32m---> 23\u001b[0m     res \u001b[38;5;241m=\u001b[39m atleast_1d(\u001b[43mthefunc\u001b[49m\u001b[43m(\u001b[49m\u001b[38;5;241;43m*\u001b[39;49m\u001b[43m(\u001b[49m\u001b[43m(\u001b[49m\u001b[43mx0\u001b[49m\u001b[43m[\u001b[49m\u001b[43m:\u001b[49m\u001b[43mnuminputs\u001b[49m\u001b[43m]\u001b[49m\u001b[43m,\u001b[49m\u001b[43m)\u001b[49m\u001b[43m \u001b[49m\u001b[38;5;241;43m+\u001b[39;49m\u001b[43m \u001b[49m\u001b[43margs\u001b[49m\u001b[43m)\u001b[49m\u001b[43m)\u001b[49m)\n\u001b[1;32m     24\u001b[0m     \u001b[38;5;28;01mif\u001b[39;00m (output_shape \u001b[38;5;129;01mis\u001b[39;00m \u001b[38;5;129;01mnot\u001b[39;00m \u001b[38;5;28;01mNone\u001b[39;00m) \u001b[38;5;129;01mand\u001b[39;00m (shape(res) \u001b[38;5;241m!=\u001b[39m output_shape):\n\u001b[1;32m     25\u001b[0m         \u001b[38;5;28;01mif\u001b[39;00m (output_shape[\u001b[38;5;241m0\u001b[39m] \u001b[38;5;241m!=\u001b[39m \u001b[38;5;241m1\u001b[39m):\n",
      "File \u001b[0;32m~/miniconda3/envs/stark/lib/python3.12/site-packages/lmfit/minimizer.py:540\u001b[0m, in \u001b[0;36mMinimizer.__residual\u001b[0;34m(self, fvars, apply_bounds_transformation)\u001b[0m\n\u001b[1;32m    537\u001b[0m     \u001b[38;5;28mself\u001b[39m\u001b[38;5;241m.\u001b[39mresult\u001b[38;5;241m.\u001b[39msuccess \u001b[38;5;241m=\u001b[39m \u001b[38;5;28;01mFalse\u001b[39;00m\n\u001b[1;32m    538\u001b[0m     \u001b[38;5;28;01mraise\u001b[39;00m AbortFitException(\u001b[38;5;124mf\u001b[39m\u001b[38;5;124m\"\u001b[39m\u001b[38;5;124mfit aborted: too many function evaluations \u001b[39m\u001b[38;5;132;01m{\u001b[39;00m\u001b[38;5;28mself\u001b[39m\u001b[38;5;241m.\u001b[39mmax_nfev\u001b[38;5;132;01m}\u001b[39;00m\u001b[38;5;124m\"\u001b[39m)\n\u001b[0;32m--> 540\u001b[0m out \u001b[38;5;241m=\u001b[39m \u001b[38;5;28;43mself\u001b[39;49m\u001b[38;5;241;43m.\u001b[39;49m\u001b[43muserfcn\u001b[49m\u001b[43m(\u001b[49m\u001b[43mparams\u001b[49m\u001b[43m,\u001b[49m\u001b[43m \u001b[49m\u001b[38;5;241;43m*\u001b[39;49m\u001b[38;5;28;43mself\u001b[39;49m\u001b[38;5;241;43m.\u001b[39;49m\u001b[43muserargs\u001b[49m\u001b[43m,\u001b[49m\u001b[43m \u001b[49m\u001b[38;5;241;43m*\u001b[39;49m\u001b[38;5;241;43m*\u001b[39;49m\u001b[38;5;28;43mself\u001b[39;49m\u001b[38;5;241;43m.\u001b[39;49m\u001b[43muserkws\u001b[49m\u001b[43m)\u001b[49m\n\u001b[1;32m    542\u001b[0m \u001b[38;5;28;01mif\u001b[39;00m \u001b[38;5;28mcallable\u001b[39m(\u001b[38;5;28mself\u001b[39m\u001b[38;5;241m.\u001b[39miter_cb):\n\u001b[1;32m    543\u001b[0m     abort \u001b[38;5;241m=\u001b[39m \u001b[38;5;28mself\u001b[39m\u001b[38;5;241m.\u001b[39miter_cb(params, \u001b[38;5;28mself\u001b[39m\u001b[38;5;241m.\u001b[39mresult\u001b[38;5;241m.\u001b[39mnfev, out,\n\u001b[1;32m    544\u001b[0m                          \u001b[38;5;241m*\u001b[39m\u001b[38;5;28mself\u001b[39m\u001b[38;5;241m.\u001b[39muserargs, \u001b[38;5;241m*\u001b[39m\u001b[38;5;241m*\u001b[39m\u001b[38;5;28mself\u001b[39m\u001b[38;5;241m.\u001b[39muserkws)\n",
      "File \u001b[0;32m~/miniconda3/envs/stark/lib/python3.12/site-packages/corv/fit.py:269\u001b[0m, in \u001b[0;36mfit_corv.<locals>.<lambda>\u001b[0;34m(params)\u001b[0m\n\u001b[1;32m    235\u001b[0m \u001b[38;5;250m\u001b[39m\u001b[38;5;124;03m\"\"\"\u001b[39;00m\n\u001b[1;32m    236\u001b[0m \u001b[38;5;124;03mFit model parameters, x-corr RV, then LMFIT RV. \u001b[39;00m\n\u001b[1;32m    237\u001b[0m \n\u001b[0;32m   (...)\u001b[0m\n\u001b[1;32m    264\u001b[0m \n\u001b[1;32m    265\u001b[0m \u001b[38;5;124;03m\"\"\"\u001b[39;00m\n\u001b[1;32m    267\u001b[0m params \u001b[38;5;241m=\u001b[39m corvmodel\u001b[38;5;241m.\u001b[39mmake_params()\n\u001b[0;32m--> 269\u001b[0m residual \u001b[38;5;241m=\u001b[39m \u001b[38;5;28;01mlambda\u001b[39;00m params: \u001b[43mnormalized_residual\u001b[49m\u001b[43m(\u001b[49m\u001b[43mwl\u001b[49m\u001b[43m,\u001b[49m\u001b[43m \u001b[49m\u001b[43mfl\u001b[49m\u001b[43m,\u001b[49m\u001b[43m \u001b[49m\u001b[43mivar\u001b[49m\u001b[43m,\u001b[49m\u001b[43m \u001b[49m\n\u001b[1;32m    270\u001b[0m \u001b[43m                                              \u001b[49m\u001b[43mcorvmodel\u001b[49m\u001b[43m,\u001b[49m\u001b[43m \u001b[49m\u001b[43mparams\u001b[49m\u001b[43m)\u001b[49m\n\u001b[1;32m    272\u001b[0m \u001b[38;5;28;01mif\u001b[39;00m iter_teff:\n\u001b[1;32m    273\u001b[0m     minchi \u001b[38;5;241m=\u001b[39m \u001b[38;5;241m1e50\u001b[39m\n",
      "File \u001b[0;32m~/miniconda3/envs/stark/lib/python3.12/site-packages/corv/fit.py:40\u001b[0m, in \u001b[0;36mnormalized_residual\u001b[0;34m(wl, fl, ivar, corvmodel, params, fit_window)\u001b[0m\n\u001b[1;32m     16\u001b[0m \u001b[38;5;28;01mdef\u001b[39;00m \u001b[38;5;21mnormalized_residual\u001b[39m(wl, fl, ivar, corvmodel, params, fit_window \u001b[38;5;241m=\u001b[39m \u001b[38;5;28;01mNone\u001b[39;00m):\n\u001b[1;32m     17\u001b[0m \u001b[38;5;250m    \u001b[39m\u001b[38;5;124;03m\"\"\"\u001b[39;00m\n\u001b[1;32m     18\u001b[0m \u001b[38;5;124;03m    Error-scaled residuals between data and evaluated model\u001b[39;00m\n\u001b[1;32m     19\u001b[0m \n\u001b[0;32m   (...)\u001b[0m\n\u001b[1;32m     37\u001b[0m \n\u001b[1;32m     38\u001b[0m \u001b[38;5;124;03m    \"\"\"\u001b[39;00m\n\u001b[0;32m---> 40\u001b[0m     nwl, nfl, nivar \u001b[38;5;241m=\u001b[39m \u001b[43mutils\u001b[49m\u001b[38;5;241;43m.\u001b[39;49m\u001b[43mcont_norm_lines\u001b[49m\u001b[43m(\u001b[49m\u001b[43mwl\u001b[49m\u001b[43m,\u001b[49m\u001b[43m \u001b[49m\u001b[43mfl\u001b[49m\u001b[43m,\u001b[49m\u001b[43m \u001b[49m\u001b[43mivar\u001b[49m\u001b[43m,\u001b[49m\n\u001b[1;32m     41\u001b[0m \u001b[43m                                            \u001b[49m\u001b[43mcorvmodel\u001b[49m\u001b[38;5;241;43m.\u001b[39;49m\u001b[43mnames\u001b[49m\u001b[43m,\u001b[49m\n\u001b[1;32m     42\u001b[0m \u001b[43m                                            \u001b[49m\u001b[43mcorvmodel\u001b[49m\u001b[38;5;241;43m.\u001b[39;49m\u001b[43mcentres\u001b[49m\u001b[43m,\u001b[49m\n\u001b[1;32m     43\u001b[0m \u001b[43m                                            \u001b[49m\u001b[43mcorvmodel\u001b[49m\u001b[38;5;241;43m.\u001b[39;49m\u001b[43mwindows\u001b[49m\u001b[43m,\u001b[49m\n\u001b[1;32m     44\u001b[0m \u001b[43m                                            \u001b[49m\u001b[43mcorvmodel\u001b[49m\u001b[38;5;241;43m.\u001b[39;49m\u001b[43medges\u001b[49m\u001b[43m)\u001b[49m\n\u001b[1;32m     46\u001b[0m     \u001b[38;5;66;03m#if fit_window is not None:\u001b[39;00m\n\u001b[1;32m     47\u001b[0m     \u001b[38;5;66;03m#    for ii in range(len(nivar)):\u001b[39;00m\n\u001b[1;32m     48\u001b[0m     \u001b[38;5;66;03m#        in_center = []\u001b[39;00m\n\u001b[0;32m   (...)\u001b[0m\n\u001b[1;32m     58\u001b[0m     \u001b[38;5;66;03m#        if not True in in_center:\u001b[39;00m\n\u001b[1;32m     59\u001b[0m     \u001b[38;5;66;03m#            nivar[ii] = 0            \u001b[39;00m\n\u001b[1;32m     61\u001b[0m     _,nmodel \u001b[38;5;241m=\u001b[39m models\u001b[38;5;241m.\u001b[39mget_normalized_model(wl, corvmodel, params)\n",
      "File \u001b[0;32m~/miniconda3/envs/stark/lib/python3.12/site-packages/corv/utils.py:135\u001b[0m, in \u001b[0;36mcont_norm_lines\u001b[0;34m(wl, fl, ivar, names, centres, windows, edges)\u001b[0m\n\u001b[1;32m    132\u001b[0m nivar \u001b[38;5;241m=\u001b[39m [];\n\u001b[1;32m    134\u001b[0m \u001b[38;5;28;01mfor\u001b[39;00m line \u001b[38;5;129;01min\u001b[39;00m names:\n\u001b[0;32m--> 135\u001b[0m     nwli, nfli, nivari \u001b[38;5;241m=\u001b[39m \u001b[43mcont_norm_line\u001b[49m\u001b[43m(\u001b[49m\u001b[43mwl\u001b[49m\u001b[43m,\u001b[49m\u001b[43m \u001b[49m\n\u001b[1;32m    136\u001b[0m \u001b[43m                                        \u001b[49m\u001b[43mfl\u001b[49m\u001b[43m,\u001b[49m\u001b[43m \u001b[49m\n\u001b[1;32m    137\u001b[0m \u001b[43m                                        \u001b[49m\u001b[43mivar\u001b[49m\u001b[43m,\u001b[49m\u001b[43m \u001b[49m\n\u001b[1;32m    138\u001b[0m \u001b[43m                                        \u001b[49m\u001b[43mcentres\u001b[49m\u001b[43m[\u001b[49m\u001b[43mline\u001b[49m\u001b[43m]\u001b[49m\u001b[43m,\u001b[49m\u001b[43m \u001b[49m\n\u001b[1;32m    139\u001b[0m \u001b[43m                                        \u001b[49m\u001b[43mwindows\u001b[49m\u001b[43m[\u001b[49m\u001b[43mline\u001b[49m\u001b[43m]\u001b[49m\u001b[43m,\u001b[49m\u001b[43m \u001b[49m\n\u001b[1;32m    140\u001b[0m \u001b[43m                                        \u001b[49m\u001b[43medges\u001b[49m\u001b[43m[\u001b[49m\u001b[43mline\u001b[49m\u001b[43m]\u001b[49m\u001b[43m)\u001b[49m\n\u001b[1;32m    141\u001b[0m     nwl\u001b[38;5;241m.\u001b[39mextend(nwli)\n\u001b[1;32m    142\u001b[0m     nfl\u001b[38;5;241m.\u001b[39mextend(nfli)\n",
      "File \u001b[0;32m~/miniconda3/envs/stark/lib/python3.12/site-packages/corv/utils.py:123\u001b[0m, in \u001b[0;36mcont_norm_line\u001b[0;34m(wl, fl, ivar, centre, window, edge)\u001b[0m\n\u001b[1;32m    120\u001b[0m mask[edge:\u001b[38;5;241m-\u001b[39medge] \u001b[38;5;241m=\u001b[39m \u001b[38;5;241m0\u001b[39m\n\u001b[1;32m    121\u001b[0m mask \u001b[38;5;241m=\u001b[39m mask\u001b[38;5;241m.\u001b[39mastype(\u001b[38;5;28mbool\u001b[39m)\n\u001b[0;32m--> 123\u001b[0m p \u001b[38;5;241m=\u001b[39m \u001b[43mnp\u001b[49m\u001b[38;5;241;43m.\u001b[39;49m\u001b[43mpolynomial\u001b[49m\u001b[38;5;241;43m.\u001b[39;49m\u001b[43mpolynomial\u001b[49m\u001b[38;5;241;43m.\u001b[39;49m\u001b[43mpolyfit\u001b[49m\u001b[43m(\u001b[49m\u001b[43mwl\u001b[49m\u001b[43m[\u001b[49m\u001b[43mmask\u001b[49m\u001b[43m]\u001b[49m\u001b[43m,\u001b[49m\u001b[43m \u001b[49m\u001b[43mfl\u001b[49m\u001b[43m[\u001b[49m\u001b[43mmask\u001b[49m\u001b[43m]\u001b[49m\u001b[43m,\u001b[49m\u001b[43m \u001b[49m\u001b[38;5;241;43m1\u001b[39;49m\u001b[43m)\u001b[49m\n\u001b[1;32m    124\u001b[0m continuum \u001b[38;5;241m=\u001b[39m np\u001b[38;5;241m.\u001b[39mpolynomial\u001b[38;5;241m.\u001b[39mpolynomial\u001b[38;5;241m.\u001b[39mpolyval(wl, p)\n\u001b[1;32m    125\u001b[0m norm_fl \u001b[38;5;241m=\u001b[39m fl \u001b[38;5;241m/\u001b[39m continuum\n",
      "File \u001b[0;32m~/miniconda3/envs/stark/lib/python3.12/site-packages/numpy/polynomial/polynomial.py:1362\u001b[0m, in \u001b[0;36mpolyfit\u001b[0;34m(x, y, deg, rcond, full, w)\u001b[0m\n\u001b[1;32m   1214\u001b[0m \u001b[38;5;28;01mdef\u001b[39;00m \u001b[38;5;21mpolyfit\u001b[39m(x, y, deg, rcond\u001b[38;5;241m=\u001b[39m\u001b[38;5;28;01mNone\u001b[39;00m, full\u001b[38;5;241m=\u001b[39m\u001b[38;5;28;01mFalse\u001b[39;00m, w\u001b[38;5;241m=\u001b[39m\u001b[38;5;28;01mNone\u001b[39;00m):\n\u001b[1;32m   1215\u001b[0m \u001b[38;5;250m    \u001b[39m\u001b[38;5;124;03m\"\"\"\u001b[39;00m\n\u001b[1;32m   1216\u001b[0m \u001b[38;5;124;03m    Least-squares fit of a polynomial to data.\u001b[39;00m\n\u001b[1;32m   1217\u001b[0m \n\u001b[0;32m   (...)\u001b[0m\n\u001b[1;32m   1360\u001b[0m \n\u001b[1;32m   1361\u001b[0m \u001b[38;5;124;03m    \"\"\"\u001b[39;00m\n\u001b[0;32m-> 1362\u001b[0m     \u001b[38;5;28;01mreturn\u001b[39;00m \u001b[43mpu\u001b[49m\u001b[38;5;241;43m.\u001b[39;49m\u001b[43m_fit\u001b[49m\u001b[43m(\u001b[49m\u001b[43mpolyvander\u001b[49m\u001b[43m,\u001b[49m\u001b[43m \u001b[49m\u001b[43mx\u001b[49m\u001b[43m,\u001b[49m\u001b[43m \u001b[49m\u001b[43my\u001b[49m\u001b[43m,\u001b[49m\u001b[43m \u001b[49m\u001b[43mdeg\u001b[49m\u001b[43m,\u001b[49m\u001b[43m \u001b[49m\u001b[43mrcond\u001b[49m\u001b[43m,\u001b[49m\u001b[43m \u001b[49m\u001b[43mfull\u001b[49m\u001b[43m,\u001b[49m\u001b[43m \u001b[49m\u001b[43mw\u001b[49m\u001b[43m)\u001b[49m\n",
      "File \u001b[0;32m~/miniconda3/envs/stark/lib/python3.12/site-packages/numpy/polynomial/polyutils.py:622\u001b[0m, in \u001b[0;36m_fit\u001b[0;34m(vander_f, x, y, deg, rcond, full, w)\u001b[0m\n\u001b[1;32m    620\u001b[0m     \u001b[38;5;28;01mraise\u001b[39;00m \u001b[38;5;167;01mTypeError\u001b[39;00m(\u001b[38;5;124m\"\u001b[39m\u001b[38;5;124mexpected 1D vector for x\u001b[39m\u001b[38;5;124m\"\u001b[39m)\n\u001b[1;32m    621\u001b[0m \u001b[38;5;28;01mif\u001b[39;00m x\u001b[38;5;241m.\u001b[39msize \u001b[38;5;241m==\u001b[39m \u001b[38;5;241m0\u001b[39m:\n\u001b[0;32m--> 622\u001b[0m     \u001b[38;5;28;01mraise\u001b[39;00m \u001b[38;5;167;01mTypeError\u001b[39;00m(\u001b[38;5;124m\"\u001b[39m\u001b[38;5;124mexpected non-empty vector for x\u001b[39m\u001b[38;5;124m\"\u001b[39m)\n\u001b[1;32m    623\u001b[0m \u001b[38;5;28;01mif\u001b[39;00m y\u001b[38;5;241m.\u001b[39mndim \u001b[38;5;241m<\u001b[39m \u001b[38;5;241m1\u001b[39m \u001b[38;5;129;01mor\u001b[39;00m y\u001b[38;5;241m.\u001b[39mndim \u001b[38;5;241m>\u001b[39m \u001b[38;5;241m2\u001b[39m:\n\u001b[1;32m    624\u001b[0m     \u001b[38;5;28;01mraise\u001b[39;00m \u001b[38;5;167;01mTypeError\u001b[39;00m(\u001b[38;5;124m\"\u001b[39m\u001b[38;5;124mexpected 1D or 2D array for y\u001b[39m\u001b[38;5;124m\"\u001b[39m)\n",
      "\u001b[0;31mTypeError\u001b[0m: expected non-empty vector for x"
     ]
    }
   ],
   "source": [
    "from stark import measurestark as ms\n",
    "lines_to_run = ['abgd', 'ab', 'a', 'b', 'g', 'd']\n",
    "#lines_to_run = ['g', 'd']\n",
    "#windows = [9,8,7,6,5,4,3,2,1,0]\n",
    "windows = [9,8]\n",
    "names = pd.read_csv('../data/processed/good_spy.csv').FileName.values\n",
    "\n",
    "for lines in lines_to_run:\n",
    "    print(f'lines: {lines}')\n",
    "    for i in windows:\n",
    "        print(f'windows: {i}')\n",
    "        try:\n",
    "            alldata = pd.read_csv(f'../../data/processed/1d_nlte_15a/{lines}/window_{i}.csv')\n",
    "        except:\n",
    "            alldata = pd.DataFrame({'filename' : [], 'lte_rv' : [], 'lte_e_rv' : [], 'lte_teff' : [], 'lte_logg' : [], 'lte_redchi' : [],})\n",
    "                    #'nlte_rv' : [], 'nlte_e_rv' : [], 'nlte_teff' : [], 'nlte_logg' : [], 'nlte_redchi' : [],\n",
    "                    #'vstark' : [], 'e_vstark' : []})\n",
    "\n",
    "        unique_names = list(set(names) - set(alldata.filename))\n",
    "        for name in tqdm(unique_names):\n",
    "            #try:\n",
    "            wavl, flux, ivar = read_spectrum(name)\n",
    "            #plt.plot(wavl, flux)\n",
    "            with suppress_stdout():\n",
    "                dat, lte_fig = ms.measure_spectrum(wavl, flux, ivar, i, lines = lines, lte_mask_size = 8, nlte_core_size = 15, modeltype='1d_da_nlte')\n",
    "                dat = pd.DataFrame(dat)\n",
    "                #dat = pd.DataFrame(ms.measure_spectrum(wavl, flux, ivar, i, lines = lines, lte_mask_size = 8, nlte_core_size = 8, modeltype='1d_da_nlte'))\n",
    "            dat['filename'] = name\n",
    "\n",
    "            alldata = pd.concat([alldata, dat])\n",
    "            alldata.to_csv(f'../data/processed/lte/15angstrom/{lines}/window_{i}.csv', index=False)\n",
    "            #except:\n",
    "            #    print(f'Fit failed: {name}')\n",
    "            \n",
    "        if (lines != 'abgd') and (i <= 8):\n",
    "            break"
   ]
  },
  {
   "cell_type": "code",
   "execution_count": 6,
   "metadata": {},
   "outputs": [],
   "source": [
    "import corv\n",
    "import matplotlib.pyplot as plt\n",
    "\n",
    "model = corv.models.Spectrum('1d_da_nlte')\n",
    "\n",
    "def forward(teff, logg, snr):\n",
    "    wavl, interp = model.wavl, model.model_spec\n",
    "    flux = interp((teff, logg))\n",
    "    ivar = (snr / flux)**2\n",
    "\n",
    "    wavl_new = np.arange(3000, 9000, 0.2)\n",
    "    flux_new = np.interp(wavl_new, wavl, flux)\n",
    "    ivar_new = np.interp(wavl_new, wavl, ivar)\n",
    "\n",
    "    flux_new += np.random.normal(loc=0, scale=flux_new/snr)\n",
    "    return wavl_new, flux_new, ivar_new\n"
   ]
  },
  {
   "cell_type": "code",
   "execution_count": null,
   "metadata": {},
   "outputs": [
    {
     "ename": "RuntimeError",
     "evalue": "No active exception to reraise",
     "output_type": "error",
     "traceback": [
      "\u001b[0;31m---------------------------------------------------------------------------\u001b[0m",
      "\u001b[0;31mRuntimeError\u001b[0m                              Traceback (most recent call last)",
      "Cell \u001b[0;32mIn[7], line 3\u001b[0m\n\u001b[1;32m      1\u001b[0m wavl, flux, ivar \u001b[38;5;241m=\u001b[39m forward(\u001b[38;5;241m10000\u001b[39m, \u001b[38;5;241m8\u001b[39m, \u001b[38;5;241m20\u001b[39m)\n\u001b[1;32m      2\u001b[0m plt\u001b[38;5;241m.\u001b[39mplot(wavl, flux)\n\u001b[0;32m----> 3\u001b[0m \u001b[38;5;28;01mraise\u001b[39;00m\n",
      "\u001b[0;31mRuntimeError\u001b[0m: No active exception to reraise"
     ]
    },
    {
     "data": {
      "image/png": "[encoded data removed]",
      "text/plain": [
       "<Figure size 640x480 with 1 Axes>"
      ]
     },
     "metadata": {},
     "output_type": "display_data"
    }
   ],
   "source": [
    "wavl, flux, ivar = forward(10000, 8, 20)\n",
    "plt.plot(wavl, flux)\n",
    "raise"
   ]
  },
  {
   "cell_type": "code",
   "execution_count": null,
   "metadata": {},
   "outputs": [
    {
     "name": "stdout",
     "output_type": "stream",
     "text": [
      "lines: abgd\n",
      "windows: 9\n"
     ]
    },
    {
     "name": "stderr",
     "output_type": "stream",
     "text": [
      "0it [00:00, ?it/s]"
     ]
    },
    {
     "name": "stdout",
     "output_type": "stream",
     "text": [
      "windows: 8\n"
     ]
    },
    {
     "name": "stderr",
     "output_type": "stream",
     "text": [
      "\n",
      "0it [00:00, ?it/s]\n"
     ]
    },
    {
     "name": "stdout",
     "output_type": "stream",
     "text": [
      "windows: 7\n"
     ]
    },
    {
     "name": "stderr",
     "output_type": "stream",
     "text": [
      "0it [00:00, ?it/s]\n"
     ]
    },
    {
     "name": "stdout",
     "output_type": "stream",
     "text": [
      "windows: 6\n"
     ]
    },
    {
     "name": "stderr",
     "output_type": "stream",
     "text": [
      "0it [00:00, ?it/s]\n"
     ]
    },
    {
     "name": "stdout",
     "output_type": "stream",
     "text": [
      "windows: 5\n"
     ]
    },
    {
     "name": "stderr",
     "output_type": "stream",
     "text": [
      "0it [00:00, ?it/s]\n"
     ]
    },
    {
     "name": "stdout",
     "output_type": "stream",
     "text": [
      "windows: 4\n"
     ]
    },
    {
     "name": "stderr",
     "output_type": "stream",
     "text": [
      "0it [00:00, ?it/s]\n"
     ]
    },
    {
     "name": "stdout",
     "output_type": "stream",
     "text": [
      "windows: 3\n"
     ]
    },
    {
     "name": "stderr",
     "output_type": "stream",
     "text": [
      "0it [00:00, ?it/s]\n"
     ]
    },
    {
     "name": "stdout",
     "output_type": "stream",
     "text": [
      "windows: 2\n"
     ]
    },
    {
     "name": "stderr",
     "output_type": "stream",
     "text": [
      "0it [00:00, ?it/s]\n"
     ]
    },
    {
     "name": "stdout",
     "output_type": "stream",
     "text": [
      "windows: 1\n"
     ]
    },
    {
     "name": "stderr",
     "output_type": "stream",
     "text": [
      "0it [00:00, ?it/s]\n"
     ]
    },
    {
     "name": "stdout",
     "output_type": "stream",
     "text": [
      "windows: 0\n"
     ]
    },
    {
     "name": "stderr",
     "output_type": "stream",
     "text": [
      "  1%|          | 1/141 [00:05<13:21,  5.73s/it]"
     ]
    },
    {
     "name": "stdout",
     "output_type": "stream",
     "text": [
      "Fit failed!\n"
     ]
    },
    {
     "name": "stderr",
     "output_type": "stream",
     "text": [
      "  1%|▏         | 2/141 [00:11<13:31,  5.84s/it]"
     ]
    },
    {
     "name": "stdout",
     "output_type": "stream",
     "text": [
      "Fit failed!\n"
     ]
    },
    {
     "name": "stderr",
     "output_type": "stream",
     "text": [
      "  2%|▏         | 3/141 [00:18<14:19,  6.23s/it]"
     ]
    },
    {
     "name": "stdout",
     "output_type": "stream",
     "text": [
      "Fit failed!\n"
     ]
    },
    {
     "name": "stderr",
     "output_type": "stream",
     "text": [
      "  3%|▎         | 4/141 [00:21<11:14,  4.93s/it]"
     ]
    },
    {
     "name": "stdout",
     "output_type": "stream",
     "text": [
      "Fit failed!\n"
     ]
    },
    {
     "name": "stderr",
     "output_type": "stream",
     "text": [
      "  4%|▎         | 5/141 [00:28<13:13,  5.83s/it]"
     ]
    },
    {
     "name": "stdout",
     "output_type": "stream",
     "text": [
      "Fit failed!\n"
     ]
    }
   ],
   "source": [
    "from stark import measurestark as ms\n",
    "lines_to_run = ['abgd']\n",
    "windows = [9,8,7,6,5,4,3,2,1,0]\n",
    "n_to_run = 300\n",
    "\n",
    "for lines in lines_to_run:\n",
    "    print(f'lines: {lines}')\n",
    "    for i in windows:\n",
    "        print(f'windows: {i}')\n",
    "        try:\n",
    "            alldata = pd.read_csv(f'../../data/processed/comparison/1d_nlte/{lines}/window_{i}.csv')\n",
    "        except:\n",
    "            alldata = pd.DataFrame({'filename' : [], 'lte_rv' : [], 'lte_e_rv' : [], 'lte_teff' : [], 'lte_logg' : [], 'lte_redchi' : [],\n",
    "                    'nlte_rv' : [], 'nlte_e_rv' : [], 'nlte_teff' : [], 'nlte_logg' : [], 'nlte_redchi' : [],\n",
    "                    'vstark' : [], 'e_vstark' : []})\n",
    "            \n",
    "        n = n_to_run - len(alldata)\n",
    "        n = 0 if n < 0 else n\n",
    "        for _ in tqdm(range(n)):\n",
    "            try:\n",
    "                theta = np.random.uniform(low=[4000, 7.1], high=[25000, 8.9], size=(1, 2))[0]\n",
    "                wavl, flux, ivar = forward(theta[0], theta[1], 35)\n",
    "                with suppress_stdout():\n",
    "                    dat = pd.DataFrame(ms.measure_spectrum(wavl, flux, ivar, i, lines = lines, lte_mask_size = 8, nlte_core_size = 15, modeltype='1d_da_nlte'))\n",
    "                dat['real_teff'] = theta[0]\n",
    "                dat['real_logg'] = theta[1]\n",
    "                dat['snr'] = 50\n",
    "\n",
    "                alldata = pd.concat([alldata, dat])\n",
    "                alldata.to_csv(f'../../data/processed/comparison/1d_nlte/{lines}/window_{i}.csv', index=False)\n",
    "            except:\n",
    "                print(f'Fit failed!')\n",
    "            \n",
    "        if lines != 'abgd':\n",
    "            break"
   ]
  },
  {
   "cell_type": "code",
   "execution_count": null,
   "metadata": {},
   "outputs": [],
   "source": []
  }
 ],
 "metadata": {
  "kernelspec": {
   "display_name": "stark",
   "language": "python",
   "name": "python3"
  },
  "language_info": {
   "codemirror_mode": {
    "name": "ipython",
    "version": 3
   },
   "file_extension": ".py",
   "mimetype": "text/x-python",
   "name": "python",
   "nbconvert_exporter": "python",
   "pygments_lexer": "ipython3",
   "version": "3.12.7"
  }
 },
 "nbformat": 4,
 "nbformat_minor": 2
}
