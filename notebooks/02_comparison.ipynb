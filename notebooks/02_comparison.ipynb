{
 "cells": [
  {
   "cell_type": "code",
   "execution_count": 1,
   "metadata": {},
   "outputs": [
    {
     "ename": "SyntaxError",
     "evalue": "positional argument follows keyword argument (plotting.py, line 35)",
     "output_type": "error",
     "traceback": [
      "Traceback \u001b[0;36m(most recent call last)\u001b[0m:\n",
      "\u001b[0m  File \u001b[1;32m~/miniconda3/envs/stark/lib/python3.12/site-packages/IPython/core/interactiveshell.py:3577\u001b[0m in \u001b[1;35mrun_code\u001b[0m\n    exec(code_obj, self.user_global_ns, self.user_ns)\u001b[0m\n",
      "\u001b[0;36m  Cell \u001b[0;32mIn[1], line 14\u001b[0;36m\n\u001b[0;31m    from stark import utils, plotting\u001b[0;36m\n",
      "\u001b[0;36m  File \u001b[0;32m/mnt/d/arsen/research/proj/spyquadraticstark/notebooks/../stark/plotting.py:35\u001b[0;36m\u001b[0m\n\u001b[0;31m    plot_with_shaded_error(ax, mean, bin_stark, yerr=e_bin_stark, plot_kwargs, scatter_kwargs, fill_kwargs)\u001b[0m\n\u001b[0m                                                                                                          ^\u001b[0m\n\u001b[0;31mSyntaxError\u001b[0m\u001b[0;31m:\u001b[0m positional argument follows keyword argument\n"
     ]
    }
   ],
   "source": [
    "import pandas as pd\n",
    "import numpy as np\n",
    "import matplotlib.pyplot as plt\n",
    "from astropy.table import Table\n",
    "from tqdm import tqdm\n",
    "import os\n",
    "import sys\n",
    "\n",
    "sys.path.append('../')\n",
    "sys.path.append('../../')\n",
    "import WD_models\n",
    "#import interpolator as interp\n",
    "\n",
    "from stark import utils, plotting"
   ]
  },
  {
   "cell_type": "code",
   "execution_count": 4,
   "metadata": {},
   "outputs": [],
   "source": [
    "lteargs = {'lines' : 'a', 'size' : 15, 'window' : 9}\n",
    "nlteargs = {'lines' : 'ab', 'size' : 15}\n",
    "stark = utils.read_stark_effect(lteargs)\n",
    "stark = utils.merge_gaia(stark, 'SOURCE_ID')\n",
    "\n",
    "teff_data, logg_data = utils.calculate_parameter_bins(stark, 'TeffH', 'loggH', 8)\n",
    "stark_teff, stark_logg = (stark.TeffH, stark.vstark, stark.e_vstark), (stark.loggH, stark.vstark, stark.e_vstark)"
   ]
  },
  {
   "cell_type": "code",
   "execution_count": 5,
   "metadata": {},
   "outputs": [
    {
     "data": {
      "text/plain": [
       "([10136.60833333333,\n",
       "  12974.559722222222,\n",
       "  15326.602000000003,\n",
       "  16858.11555555556,\n",
       "  18304.868611111116,\n",
       "  20172.396285714283,\n",
       "  22505.25257142857,\n",
       "  30406.11378378379],\n",
       " [-5.2621238405115545,\n",
       "  -3.0667230243896224,\n",
       "  -0.6073225192722091,\n",
       "  -3.333338686357891,\n",
       "  -5.229329334630574,\n",
       "  -2.084672662766714,\n",
       "  -6.176050348012435,\n",
       "  -2.387112096438628],\n",
       " [5.111541355852206,\n",
       "  3.0644885890878997,\n",
       "  2.3760430784949853,\n",
       "  2.9298503546783112,\n",
       "  2.6920481255155386,\n",
       "  2.9149862392789148,\n",
       "  3.032046807711821,\n",
       "  3.544806779033697])"
      ]
     },
     "execution_count": 5,
     "metadata": {},
     "output_type": "execute_result"
    }
   ],
   "source": [
    "teff_data"
   ]
  },
  {
   "cell_type": "code",
   "execution_count": null,
   "metadata": {},
   "outputs": [],
   "source": [
    "plotting.parameter_stark_plot(teff_data)"
   ]
  }
 ],
 "metadata": {
  "kernelspec": {
   "display_name": "stark",
   "language": "python",
   "name": "python3"
  },
  "language_info": {
   "codemirror_mode": {
    "name": "ipython",
    "version": 3
   },
   "file_extension": ".py",
   "mimetype": "text/x-python",
   "name": "python",
   "nbconvert_exporter": "python",
   "pygments_lexer": "ipython3",
   "version": "3.12.7"
  }
 },
 "nbformat": 4,
 "nbformat_minor": 2
}
