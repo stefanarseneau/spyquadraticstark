{
 "cells": [
  {
   "cell_type": "code",
   "execution_count": 12,
   "metadata": {},
   "outputs": [],
   "source": [
    "from astroquery.gaia import Gaia\n",
    "import pyvo\n",
    "import pandas as pd\n",
    "import numpy as np\n",
    "import matplotlib.pyplot as plt\n",
    "import os"
   ]
  },
  {
   "cell_type": "code",
   "execution_count": 13,
   "metadata": {},
   "outputs": [],
   "source": [
    "\"\"\" get the clean DA wds from Napiwotski+2020\n",
    "\"\"\"\n",
    "tap_service = pyvo.dal.TAPService(\"http://TAPVizieR.u-strasbg.fr/TAPVizieR/tap/\")\n",
    "QUERY = f\"\"\"select da.Name, da.GaiaDR2, da.Teff as SPYTeff, da.logg as SPYlogg, da.Rem, objects.FileName\n",
    "        from \\\"J/A+A/638/A131/tablec2\\\" as da\n",
    "        join \\\"J/A+A/638/A131/objects\\\" as objects\n",
    "        on da.Name = objects.Name\n",
    "        where da.Rem = ' '\n",
    "        \"\"\"\n",
    "table = tap_service.search(QUERY).to_table().to_pandas()"
   ]
  },
  {
   "cell_type": "code",
   "execution_count": 14,
   "metadata": {},
   "outputs": [
    {
     "name": "stdout",
     "output_type": "stream",
     "text": [
      "INFO: Query finished. [astroquery.utils.tap.core]\n"
     ]
    }
   ],
   "source": [
    "\"\"\" cross-match against Gaia\n",
    "\"\"\"\n",
    "QUERY = f\"\"\"select dr2.dr2_source_id as GaiaDR2, bj.r_med_geo, gaia.*\n",
    "        from gaiadr3.gaia_source as gaia\n",
    "        join gaiadr3.dr2_neighbourhood as dr2\n",
    "                on gaia.source_id = dr2.dr3_source_id\n",
    "        join external.gaiaedr3_distance as bj\n",
    "                on bj.source_id = gaia.source_id\n",
    "        where dr2.dr2_source_id in {tuple(table.GaiaDR2)}\n",
    "        and parallax_over_error > 5\n",
    "        and ruwe < 1.25\n",
    "        \"\"\"\n",
    "gaia_table = Gaia.launch_job_async(QUERY).get_results().to_pandas()\n",
    "full_table = pd.merge(table, gaia_table, on=\"GaiaDR2\")\n",
    "full_table['FileName'] = full_table['FileName'].astype(str) + '.gz'"
   ]
  },
  {
   "cell_type": "code",
   "execution_count": 15,
   "metadata": {},
   "outputs": [
    {
     "data": {
      "text/plain": [
       "1181"
      ]
     },
     "execution_count": 15,
     "metadata": {},
     "output_type": "execute_result"
    },
    {
     "data": {
      "image/png": "[encoded data removed]",
      "text/plain": [
       "<Figure size 640x480 with 1 Axes>"
      ]
     },
     "metadata": {},
     "output_type": "display_data"
    }
   ],
   "source": [
    "\"\"\" check RUWE to mitigate binary contamination\n",
    "\"\"\"\n",
    "plt.hist(full_table.ruwe, bins = 50)\n",
    "plt.xlabel('ruwe')\n",
    "plt.yscale('log')\n",
    "\n",
    "full_table = full_table.query(\"ruwe < 1.25\")\n",
    "len(full_table)"
   ]
  },
  {
   "cell_type": "code",
   "execution_count": 16,
   "metadata": {},
   "outputs": [
    {
     "name": "stderr",
     "output_type": "stream",
     "text": [
      "WARNING: AstropyDeprecationWarning: Using the table property is deprecated. Please use the to_table() instead. [pyvo.dal.query]\n"
     ]
    }
   ],
   "source": [
    "def merge_ngf21(source_ids):\n",
    "    tap_service = pyvo.dal.TAPService(\"http://TAPVizieR.u-strasbg.fr/TAPVizieR/tap/\")\n",
    "    QUERY = f\"\"\"select GaiaEDR3, TeffH, e_TeffH, loggH, e_loggH \n",
    "            from \\\"J/MNRAS/508/3877/maincat\\\"\n",
    "            where GaiaEDR3 in {tuple(source_ids)}\"\"\"\n",
    "    return tap_service.search(QUERY).table.to_pandas()\n",
    "\n",
    "data = pd.merge(full_table, merge_ngf21(full_table.SOURCE_ID), left_on='SOURCE_ID', right_on = 'GaiaEDR3')"
   ]
  },
  {
   "cell_type": "raw",
   "metadata": {
    "vscode": {
     "languageId": "raw"
    }
   },
   "source": [
    "from tqdm import tqdm\n",
    "import sys\n",
    "sys.path.append('../')\n",
    "from stark.measure import read_raw_spectrum\n",
    "\n",
    "unique_objs = np.unique(full_table.SOURCE_ID)\n",
    "for id in tqdm(unique_objs):\n",
    "    subset = full_table.query(f\"SOURCE_ID == {id}\")\n",
    "    wavl_to_coadd = []\n",
    "    flux_to_coadd = []\n",
    "    ivar_to_coadd = []\n",
    "\n",
    "    for file in subset.FileName:\n",
    "        wl, fl, ivar = read_raw_spectrum(file)\n",
    "        wavl_to_coadd.append(wl)\n",
    "        flux_to_coadd.append(fl)\n",
    "        ivar_to_coadd.append(ivar)\n",
    "\n",
    "    n = max(range(len(wavl_to_coadd)), key=lambda i: len(wavl_to_coadd[i]))\n",
    "    for i in range(len(flux_to_coadd)):\n",
    "        flux_to_coadd[i] = np.interp(wavl_to_coadd[n], wavl_to_coadd[i], flux_to_coadd[i])\n",
    "        ivar_to_coadd[i] = np.interp(wavl_to_coadd[n], wavl_to_coadd[i], ivar_to_coadd[i])\n",
    "        wavl_to_coadd[i] = wavl_to_coadd[n]\n",
    "    assert np.allclose(wavl_to_coadd[n], np.mean(np.array(wavl_to_coadd), axis=0))\n",
    "\n",
    "    wavl_to_coadd = np.array(wavl_to_coadd)\n",
    "    flux_to_coadd = np.array(flux_to_coadd)\n",
    "    ivar_to_coadd = np.array(ivar_to_coadd) \n",
    "\n",
    "    wavl_coadd = np.mean(wavl_to_coadd, axis=0)\n",
    "    flux_coadd = np.median(flux_to_coadd, axis=0)\n",
    "\n",
    "    mask = (ivar_to_coadd == 0)\n",
    "    ivar_to_coadd[mask] == 1\n",
    "    variances_to_coadd = ivar_to_coadd**-1\n",
    "    variances_coadd = np.sum(variances_to_coadd, axis=0) / variances_to_coadd.shape[0]**2\n",
    "    ivar_coadd = 1 / variances_coadd\n",
    "    smask = (mask).all(axis=0)\n",
    "    ivar_coadd[smask] = 1e-6\n",
    "\n",
    "    spec = pd.DataFrame({'wavl' : wavl_coadd, 'flux' : flux_coadd, 'ivar' : ivar_coadd})\n",
    "    spec.to_csv(f'../data/raw/coadd/{id}.csv', index=False)\n"
   ]
  },
  {
   "cell_type": "code",
   "execution_count": 17,
   "metadata": {},
   "outputs": [],
   "source": [
    "data = data.drop(columns=['FileName', 'GaiaEDR3','GaiaDR2'])\n",
    "data.drop_duplicates(inplace=True,)\n",
    "data.to_csv('../data/goodcoadds.csv', index=False)"
   ]
  },
  {
   "cell_type": "code",
   "execution_count": 18,
   "metadata": {},
   "outputs": [],
   "source": [
    "from astropy.io import fits\n",
    "spec = fits.open('../data/raw/sdss5/wd_fits/spSpec-015004-59191-4402835442.fits')\n",
    "sdsswavl = 10**spec[1].data['LOGLAM']"
   ]
  },
  {
   "cell_type": "code",
   "execution_count": 21,
   "metadata": {},
   "outputs": [
    {
     "name": "stderr",
     "output_type": "stream",
     "text": [
      "  0%|          | 0/547 [00:00<?, ?it/s]"
     ]
    },
    {
     "name": "stderr",
     "output_type": "stream",
     "text": [
      "100%|██████████| 547/547 [02:48<00:00,  3.25it/s]\n"
     ]
    }
   ],
   "source": [
    "from Payne.utils import smoothing\n",
    "from tqdm import tqdm\n",
    "\n",
    "for source in tqdm(data.SOURCE_ID):\n",
    "    spec = pd.read_csv(f'../data/raw/coadd/{source}.csv')\n",
    "    wavl, flux, ivar = spec.wavl, spec.flux, spec.ivar\n",
    "    mask = (min(wavl) < sdsswavl) * (sdsswavl < 6564.6+70)\n",
    "    flux = smoothing.smoothspec(wavl, flux, resolution=1800, smoothtype='R', outwave=sdsswavl[mask])\n",
    "    ivar = np.interp(sdsswavl[mask], wavl, ivar)\n",
    "    spec = pd.DataFrame({'wavl' : sdsswavl[mask], 'flux' : flux, 'ivar' : ivar})\n",
    "    spec.to_csv(f'../data/raw/coadd_smooth/{source}.csv', index=False)\n"
   ]
  },
  {
   "cell_type": "raw",
   "metadata": {
    "vscode": {
     "languageId": "raw"
    }
   },
   "source": [
    "#data.to_csv('../data/goodcoadds.csv', index=False)"
   ]
  }
 ],
 "metadata": {
  "kernelspec": {
   "display_name": "stark",
   "language": "python",
   "name": "python3"
  },
  "language_info": {
   "codemirror_mode": {
    "name": "ipython",
    "version": 3
   },
   "file_extension": ".py",
   "mimetype": "text/x-python",
   "name": "python",
   "nbconvert_exporter": "python",
   "pygments_lexer": "ipython3",
   "version": "3.12.7"
  }
 },
 "nbformat": 4,
 "nbformat_minor": 2
}
