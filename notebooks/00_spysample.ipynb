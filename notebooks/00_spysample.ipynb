{
 "cells": [
  {
   "cell_type": "code",
   "execution_count": 2,
   "metadata": {},
   "outputs": [],
   "source": [
    "from astroquery.gaia import Gaia\n",
    "import pyvo\n",
    "import pandas as pd\n",
    "import numpy as np\n",
    "import matplotlib.pyplot as plt\n",
    "import os"
   ]
  },
  {
   "cell_type": "code",
   "execution_count": 3,
   "metadata": {},
   "outputs": [],
   "source": [
    "\"\"\" get the clean DA wds from Napiwotski+2020\n",
    "\"\"\"\n",
    "tap_service = pyvo.dal.TAPService(\"http://TAPVizieR.u-strasbg.fr/TAPVizieR/tap/\")\n",
    "QUERY = f\"\"\"select da.Name, da.GaiaDR2, da.Teff as SPYTeff, da.logg as SPYlogg, da.Rem, objects.FileName\n",
    "        from \\\"J/A+A/638/A131/tablec2\\\" as da\n",
    "        join \\\"J/A+A/638/A131/objects\\\" as objects\n",
    "        on da.Name = objects.Name\n",
    "        where da.Rem = ' '\n",
    "        \"\"\"\n",
    "table = tap_service.search(QUERY).to_table().to_pandas()"
   ]
  },
  {
   "cell_type": "code",
   "execution_count": 4,
   "metadata": {},
   "outputs": [
    {
     "name": "stdout",
     "output_type": "stream",
     "text": [
      "INFO: Query finished. [astroquery.utils.tap.core]\n"
     ]
    }
   ],
   "source": [
    "\"\"\" cross-match against Gaia\n",
    "\"\"\"\n",
    "QUERY = f\"\"\"select dr2.dr2_source_id as GaiaDR2, gaia.*\n",
    "        from gaiadr3.gaia_source as gaia\n",
    "        join gaiadr3.dr2_neighbourhood as dr2\n",
    "        on gaia.source_id = dr2.dr3_source_id\n",
    "        where dr2.dr2_source_id in {tuple(table.GaiaDR2)}\n",
    "        \"\"\"\n",
    "gaia_table = Gaia.launch_job_async(QUERY).get_results().to_pandas()\n",
    "full_table = pd.merge(table, gaia_table, on=\"GaiaDR2\")\n",
    "full_table['FileName'] = full_table['FileName'].astype(str) + '.gz'"
   ]
  },
  {
   "cell_type": "code",
   "execution_count": 5,
   "metadata": {},
   "outputs": [
    {
     "data": {
      "text/plain": [
       "1186"
      ]
     },
     "execution_count": 5,
     "metadata": {},
     "output_type": "execute_result"
    },
    {
     "data": {
      "image/png": "[encoded data removed]",
      "text/plain": [
       "<Figure size 640x480 with 1 Axes>"
      ]
     },
     "metadata": {},
     "output_type": "display_data"
    }
   ],
   "source": [
    "\"\"\" check RUWE to mitigate binary contamination\n",
    "\"\"\"\n",
    "plt.hist(full_table.ruwe, bins = 50)\n",
    "plt.xlabel('ruwe')\n",
    "plt.yscale('log')\n",
    "\n",
    "full_table = full_table.query(\"ruwe < 1.25\")\n",
    "len(full_table)"
   ]
  },
  {
   "cell_type": "code",
   "execution_count": 7,
   "metadata": {},
   "outputs": [],
   "source": [
    "\"\"\" save to a file that will be filtered against when measuring vstark\n",
    "\"\"\"\n",
    "stark_table = full_table[['Name', 'SOURCE_ID', 'FileName']]\n",
    "stark_table.to_csv('../data/processed/good_spy.csv')"
   ]
  },
  {
   "cell_type": "code",
   "execution_count": null,
   "metadata": {},
   "outputs": [],
   "source": []
  }
 ],
 "metadata": {
  "kernelspec": {
   "display_name": "stark",
   "language": "python",
   "name": "python3"
  },
  "language_info": {
   "codemirror_mode": {
    "name": "ipython",
    "version": 3
   },
   "file_extension": ".py",
   "mimetype": "text/x-python",
   "name": "python",
   "nbconvert_exporter": "python",
   "pygments_lexer": "ipython3",
   "version": "3.12.7"
  }
 },
 "nbformat": 4,
 "nbformat_minor": 2
}
